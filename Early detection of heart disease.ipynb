{
 "cells": [
  {
   "cell_type": "markdown",
   "metadata": {},
   "source": [
    "# HW 1\n",
    "## Machine Learning with Python IDS-594 \n",
    "### Due date: 6:00 pm 09/20/2019"
   ]
  },
  {
   "cell_type": "markdown",
   "metadata": {},
   "source": [
    "In this homework you will do a classification task. You will build a model that predicts whether a person has heart disease or not. While doing this homework you will learn: <br> 1) how to pre-process the data <br> 2) perform model selection (which algorithm should you use for building your model, logistic regression or k-nearest neighbor?)  <br>3) perform hyperparameter selection (what value of K should you use in you k-nearest neighbor algorithm) <br>After you selected the best model via cross validation, you will apply your model to the test set and report your performance to me."
   ]
  },
  {
   "cell_type": "markdown",
   "metadata": {},
   "source": [
    "Refer to Python's documentation for each function to see the input arguments, outputs, and methods."
   ]
  },
  {
   "cell_type": "markdown",
   "metadata": {},
   "source": [
    "The inputs of this homework are heart_disease.xlsx which contains the data, and heart.doc which contains some information regarding each feature (columns in the heart_disease.xlsx file)"
   ]
  },
  {
   "cell_type": "markdown",
   "metadata": {},
   "source": [
    "##### Fill in the cells that have \"TO DO\", and give me your output scores and answer any questions I asked in the problems in a report."
   ]
  },
  {
   "cell_type": "code",
   "execution_count": 99,
   "metadata": {},
   "outputs": [],
   "source": [
    "# Import the important packages here\n",
    "import numpy as np\n",
    "import pandas as pd\n",
    "import matplotlib.pyplot as plt\n",
    "from sklearn.model_selection import train_test_split\n",
    "from sklearn.linear_model import LogisticRegression\n",
    "from sklearn.preprocessing import StandardScaler\n",
    "from sklearn.pipeline import Pipeline\n",
    "from sklearn.model_selection import GridSearchCV\n",
    "from sklearn import metrics\n",
    "from sklearn.neighbors import KNeighborsClassifier\n",
    "\n",
    "%matplotlib inline"
   ]
  },
  {
   "cell_type": "markdown",
   "metadata": {},
   "source": [
    "### Problem 1) Cleaning data and visualization"
   ]
  },
  {
   "cell_type": "code",
   "execution_count": 100,
   "metadata": {},
   "outputs": [],
   "source": [
    "# Use pandas.read_excel to read the heart_disease.xlsx file into a dataframe called data\n",
    "data = pd.read_excel('heart_disease.xlsx')"
   ]
  },
  {
   "cell_type": "code",
   "execution_count": 101,
   "metadata": {},
   "outputs": [
    {
     "data": {
      "text/html": [
       "<div>\n",
       "<style scoped>\n",
       "    .dataframe tbody tr th:only-of-type {\n",
       "        vertical-align: middle;\n",
       "    }\n",
       "\n",
       "    .dataframe tbody tr th {\n",
       "        vertical-align: top;\n",
       "    }\n",
       "\n",
       "    .dataframe thead th {\n",
       "        text-align: right;\n",
       "    }\n",
       "</style>\n",
       "<table border=\"1\" class=\"dataframe\">\n",
       "  <thead>\n",
       "    <tr style=\"text-align: right;\">\n",
       "      <th></th>\n",
       "      <th>age</th>\n",
       "      <th>sex</th>\n",
       "      <th>chest_pain</th>\n",
       "      <th>bp</th>\n",
       "      <th>chol</th>\n",
       "      <th>blood_sugar</th>\n",
       "      <th>ecg</th>\n",
       "      <th>heart_rate</th>\n",
       "      <th>angia</th>\n",
       "      <th>oldpeak</th>\n",
       "      <th>slope</th>\n",
       "      <th>vessel_num</th>\n",
       "      <th>thal</th>\n",
       "      <th>heart_disease</th>\n",
       "    </tr>\n",
       "  </thead>\n",
       "  <tbody>\n",
       "    <tr>\n",
       "      <th>0</th>\n",
       "      <td>70</td>\n",
       "      <td>1</td>\n",
       "      <td>4</td>\n",
       "      <td>130</td>\n",
       "      <td>322</td>\n",
       "      <td>0</td>\n",
       "      <td>2</td>\n",
       "      <td>109</td>\n",
       "      <td>0</td>\n",
       "      <td>2.4</td>\n",
       "      <td>2</td>\n",
       "      <td>3</td>\n",
       "      <td>3</td>\n",
       "      <td>2</td>\n",
       "    </tr>\n",
       "    <tr>\n",
       "      <th>1</th>\n",
       "      <td>67</td>\n",
       "      <td>0</td>\n",
       "      <td>3</td>\n",
       "      <td>115</td>\n",
       "      <td>564</td>\n",
       "      <td>0</td>\n",
       "      <td>2</td>\n",
       "      <td>160</td>\n",
       "      <td>0</td>\n",
       "      <td>1.6</td>\n",
       "      <td>2</td>\n",
       "      <td>0</td>\n",
       "      <td>7</td>\n",
       "      <td>1</td>\n",
       "    </tr>\n",
       "    <tr>\n",
       "      <th>2</th>\n",
       "      <td>57</td>\n",
       "      <td>1</td>\n",
       "      <td>2</td>\n",
       "      <td>124</td>\n",
       "      <td>261</td>\n",
       "      <td>0</td>\n",
       "      <td>0</td>\n",
       "      <td>141</td>\n",
       "      <td>0</td>\n",
       "      <td>0.3</td>\n",
       "      <td>1</td>\n",
       "      <td>0</td>\n",
       "      <td>7</td>\n",
       "      <td>2</td>\n",
       "    </tr>\n",
       "    <tr>\n",
       "      <th>3</th>\n",
       "      <td>64</td>\n",
       "      <td>1</td>\n",
       "      <td>4</td>\n",
       "      <td>128</td>\n",
       "      <td>263</td>\n",
       "      <td>0</td>\n",
       "      <td>0</td>\n",
       "      <td>105</td>\n",
       "      <td>1</td>\n",
       "      <td>0.2</td>\n",
       "      <td>2</td>\n",
       "      <td>1</td>\n",
       "      <td>7</td>\n",
       "      <td>1</td>\n",
       "    </tr>\n",
       "    <tr>\n",
       "      <th>4</th>\n",
       "      <td>74</td>\n",
       "      <td>0</td>\n",
       "      <td>2</td>\n",
       "      <td>120</td>\n",
       "      <td>269</td>\n",
       "      <td>0</td>\n",
       "      <td>2</td>\n",
       "      <td>121</td>\n",
       "      <td>1</td>\n",
       "      <td>0.2</td>\n",
       "      <td>1</td>\n",
       "      <td>1</td>\n",
       "      <td>3</td>\n",
       "      <td>1</td>\n",
       "    </tr>\n",
       "  </tbody>\n",
       "</table>\n",
       "</div>"
      ],
      "text/plain": [
       "   age  sex  chest_pain   bp  chol  blood_sugar  ecg  heart_rate  angia  \\\n",
       "0   70    1           4  130   322            0    2         109      0   \n",
       "1   67    0           3  115   564            0    2         160      0   \n",
       "2   57    1           2  124   261            0    0         141      0   \n",
       "3   64    1           4  128   263            0    0         105      1   \n",
       "4   74    0           2  120   269            0    2         121      1   \n",
       "\n",
       "   oldpeak  slope  vessel_num  thal  heart_disease  \n",
       "0      2.4      2           3     3              2  \n",
       "1      1.6      2           0     7              1  \n",
       "2      0.3      1           0     7              2  \n",
       "3      0.2      2           1     7              1  \n",
       "4      0.2      1           1     3              1  "
      ]
     },
     "execution_count": 101,
     "metadata": {},
     "output_type": "execute_result"
    }
   ],
   "source": [
    "# Look at the first 5 rows by using head(5)\n",
    "data.head(5)"
   ]
  },
  {
   "cell_type": "code",
   "execution_count": 102,
   "metadata": {},
   "outputs": [
    {
     "data": {
      "text/html": [
       "<div>\n",
       "<style scoped>\n",
       "    .dataframe tbody tr th:only-of-type {\n",
       "        vertical-align: middle;\n",
       "    }\n",
       "\n",
       "    .dataframe tbody tr th {\n",
       "        vertical-align: top;\n",
       "    }\n",
       "\n",
       "    .dataframe thead th {\n",
       "        text-align: right;\n",
       "    }\n",
       "</style>\n",
       "<table border=\"1\" class=\"dataframe\">\n",
       "  <thead>\n",
       "    <tr style=\"text-align: right;\">\n",
       "      <th></th>\n",
       "      <th>age</th>\n",
       "      <th>sex</th>\n",
       "      <th>chest_pain</th>\n",
       "      <th>bp</th>\n",
       "      <th>chol</th>\n",
       "      <th>blood_sugar</th>\n",
       "      <th>ecg</th>\n",
       "      <th>heart_rate</th>\n",
       "      <th>angia</th>\n",
       "      <th>oldpeak</th>\n",
       "      <th>slope</th>\n",
       "      <th>vessel_num</th>\n",
       "      <th>thal</th>\n",
       "      <th>heart_disease</th>\n",
       "    </tr>\n",
       "  </thead>\n",
       "  <tbody>\n",
       "    <tr>\n",
       "      <th>count</th>\n",
       "      <td>270.000000</td>\n",
       "      <td>270.000000</td>\n",
       "      <td>270.000000</td>\n",
       "      <td>270.000000</td>\n",
       "      <td>270.000000</td>\n",
       "      <td>270.000000</td>\n",
       "      <td>270.000000</td>\n",
       "      <td>270.000000</td>\n",
       "      <td>270.000000</td>\n",
       "      <td>270.00000</td>\n",
       "      <td>270.000000</td>\n",
       "      <td>270.000000</td>\n",
       "      <td>270.000000</td>\n",
       "      <td>270.000000</td>\n",
       "    </tr>\n",
       "    <tr>\n",
       "      <th>mean</th>\n",
       "      <td>54.433333</td>\n",
       "      <td>0.677778</td>\n",
       "      <td>3.174074</td>\n",
       "      <td>131.344444</td>\n",
       "      <td>249.659259</td>\n",
       "      <td>0.148148</td>\n",
       "      <td>1.022222</td>\n",
       "      <td>149.677778</td>\n",
       "      <td>0.329630</td>\n",
       "      <td>1.05000</td>\n",
       "      <td>1.585185</td>\n",
       "      <td>0.670370</td>\n",
       "      <td>4.696296</td>\n",
       "      <td>1.444444</td>\n",
       "    </tr>\n",
       "    <tr>\n",
       "      <th>std</th>\n",
       "      <td>9.109067</td>\n",
       "      <td>0.468195</td>\n",
       "      <td>0.950090</td>\n",
       "      <td>17.861608</td>\n",
       "      <td>51.686237</td>\n",
       "      <td>0.355906</td>\n",
       "      <td>0.997891</td>\n",
       "      <td>23.165717</td>\n",
       "      <td>0.470952</td>\n",
       "      <td>1.14521</td>\n",
       "      <td>0.614390</td>\n",
       "      <td>0.943896</td>\n",
       "      <td>1.940659</td>\n",
       "      <td>0.497827</td>\n",
       "    </tr>\n",
       "    <tr>\n",
       "      <th>min</th>\n",
       "      <td>29.000000</td>\n",
       "      <td>0.000000</td>\n",
       "      <td>1.000000</td>\n",
       "      <td>94.000000</td>\n",
       "      <td>126.000000</td>\n",
       "      <td>0.000000</td>\n",
       "      <td>0.000000</td>\n",
       "      <td>71.000000</td>\n",
       "      <td>0.000000</td>\n",
       "      <td>0.00000</td>\n",
       "      <td>1.000000</td>\n",
       "      <td>0.000000</td>\n",
       "      <td>3.000000</td>\n",
       "      <td>1.000000</td>\n",
       "    </tr>\n",
       "    <tr>\n",
       "      <th>25%</th>\n",
       "      <td>48.000000</td>\n",
       "      <td>0.000000</td>\n",
       "      <td>3.000000</td>\n",
       "      <td>120.000000</td>\n",
       "      <td>213.000000</td>\n",
       "      <td>0.000000</td>\n",
       "      <td>0.000000</td>\n",
       "      <td>133.000000</td>\n",
       "      <td>0.000000</td>\n",
       "      <td>0.00000</td>\n",
       "      <td>1.000000</td>\n",
       "      <td>0.000000</td>\n",
       "      <td>3.000000</td>\n",
       "      <td>1.000000</td>\n",
       "    </tr>\n",
       "    <tr>\n",
       "      <th>50%</th>\n",
       "      <td>55.000000</td>\n",
       "      <td>1.000000</td>\n",
       "      <td>3.000000</td>\n",
       "      <td>130.000000</td>\n",
       "      <td>245.000000</td>\n",
       "      <td>0.000000</td>\n",
       "      <td>2.000000</td>\n",
       "      <td>153.500000</td>\n",
       "      <td>0.000000</td>\n",
       "      <td>0.80000</td>\n",
       "      <td>2.000000</td>\n",
       "      <td>0.000000</td>\n",
       "      <td>3.000000</td>\n",
       "      <td>1.000000</td>\n",
       "    </tr>\n",
       "    <tr>\n",
       "      <th>75%</th>\n",
       "      <td>61.000000</td>\n",
       "      <td>1.000000</td>\n",
       "      <td>4.000000</td>\n",
       "      <td>140.000000</td>\n",
       "      <td>280.000000</td>\n",
       "      <td>0.000000</td>\n",
       "      <td>2.000000</td>\n",
       "      <td>166.000000</td>\n",
       "      <td>1.000000</td>\n",
       "      <td>1.60000</td>\n",
       "      <td>2.000000</td>\n",
       "      <td>1.000000</td>\n",
       "      <td>7.000000</td>\n",
       "      <td>2.000000</td>\n",
       "    </tr>\n",
       "    <tr>\n",
       "      <th>max</th>\n",
       "      <td>77.000000</td>\n",
       "      <td>1.000000</td>\n",
       "      <td>4.000000</td>\n",
       "      <td>200.000000</td>\n",
       "      <td>564.000000</td>\n",
       "      <td>1.000000</td>\n",
       "      <td>2.000000</td>\n",
       "      <td>202.000000</td>\n",
       "      <td>1.000000</td>\n",
       "      <td>6.20000</td>\n",
       "      <td>3.000000</td>\n",
       "      <td>3.000000</td>\n",
       "      <td>7.000000</td>\n",
       "      <td>2.000000</td>\n",
       "    </tr>\n",
       "  </tbody>\n",
       "</table>\n",
       "</div>"
      ],
      "text/plain": [
       "              age         sex  chest_pain          bp        chol  \\\n",
       "count  270.000000  270.000000  270.000000  270.000000  270.000000   \n",
       "mean    54.433333    0.677778    3.174074  131.344444  249.659259   \n",
       "std      9.109067    0.468195    0.950090   17.861608   51.686237   \n",
       "min     29.000000    0.000000    1.000000   94.000000  126.000000   \n",
       "25%     48.000000    0.000000    3.000000  120.000000  213.000000   \n",
       "50%     55.000000    1.000000    3.000000  130.000000  245.000000   \n",
       "75%     61.000000    1.000000    4.000000  140.000000  280.000000   \n",
       "max     77.000000    1.000000    4.000000  200.000000  564.000000   \n",
       "\n",
       "       blood_sugar         ecg  heart_rate       angia    oldpeak       slope  \\\n",
       "count   270.000000  270.000000  270.000000  270.000000  270.00000  270.000000   \n",
       "mean      0.148148    1.022222  149.677778    0.329630    1.05000    1.585185   \n",
       "std       0.355906    0.997891   23.165717    0.470952    1.14521    0.614390   \n",
       "min       0.000000    0.000000   71.000000    0.000000    0.00000    1.000000   \n",
       "25%       0.000000    0.000000  133.000000    0.000000    0.00000    1.000000   \n",
       "50%       0.000000    2.000000  153.500000    0.000000    0.80000    2.000000   \n",
       "75%       0.000000    2.000000  166.000000    1.000000    1.60000    2.000000   \n",
       "max       1.000000    2.000000  202.000000    1.000000    6.20000    3.000000   \n",
       "\n",
       "       vessel_num        thal  heart_disease  \n",
       "count  270.000000  270.000000     270.000000  \n",
       "mean     0.670370    4.696296       1.444444  \n",
       "std      0.943896    1.940659       0.497827  \n",
       "min      0.000000    3.000000       1.000000  \n",
       "25%      0.000000    3.000000       1.000000  \n",
       "50%      0.000000    3.000000       1.000000  \n",
       "75%      1.000000    7.000000       2.000000  \n",
       "max      3.000000    7.000000       2.000000  "
      ]
     },
     "execution_count": 102,
     "metadata": {},
     "output_type": "execute_result"
    }
   ],
   "source": [
    "# Get the statistics of your dataframe\n",
    "data.describe()"
   ]
  },
  {
   "cell_type": "code",
   "execution_count": 103,
   "metadata": {
    "scrolled": false
   },
   "outputs": [
    {
     "data": {
      "text/plain": [
       "age              False\n",
       "sex              False\n",
       "chest_pain       False\n",
       "bp               False\n",
       "chol             False\n",
       "blood_sugar      False\n",
       "ecg              False\n",
       "heart_rate       False\n",
       "angia            False\n",
       "oldpeak          False\n",
       "slope            False\n",
       "vessel_num       False\n",
       "thal             False\n",
       "heart_disease    False\n",
       "dtype: bool"
      ]
     },
     "execution_count": 103,
     "metadata": {},
     "output_type": "execute_result"
    }
   ],
   "source": [
    "# Are there any columns that contain a missing value? If yes, substitute those with the mean value of each column!\n",
    "data.isnull().any()\n",
    "\n",
    "#None of the columns contain missing values."
   ]
  },
  {
   "cell_type": "code",
   "execution_count": 104,
   "metadata": {},
   "outputs": [
    {
     "data": {
      "text/plain": [
       "Text(0, 0.5, 'frequency of disease')"
      ]
     },
     "execution_count": 104,
     "metadata": {},
     "output_type": "execute_result"
    },
    {
     "data": {
      "image/png": "[encoded data removed]",
      "text/plain": [
       "<Figure size 432x288 with 1 Axes>"
      ]
     },
     "metadata": {
      "needs_background": "light"
     },
     "output_type": "display_data"
    }
   ],
   "source": [
    "# Look at the disease Frequency for chest pain level (do this for other categorical variables to see if they are useful features)\n",
    "%matplotlib inline\n",
    "pd.crosstab(data.chest_pain,data.heart_disease).plot(kind='bar')\n",
    "plt.title('disease Frequency for chest pain level')\n",
    "plt.xlabel('chest pain level')\n",
    "plt.ylabel('frequency of disease')"
   ]
  },
  {
   "cell_type": "code",
   "execution_count": 105,
   "metadata": {},
   "outputs": [
    {
     "data": {
      "text/plain": [
       "Text(0, 0.5, 'frequency of disease')"
      ]
     },
     "execution_count": 105,
     "metadata": {},
     "output_type": "execute_result"
    },
    {
     "data": {
      "image/png": "[encoded data removed]",
      "text/plain": [
       "<Figure size 432x288 with 1 Axes>"
      ]
     },
     "metadata": {
      "needs_background": "light"
     },
     "output_type": "display_data"
    }
   ],
   "source": [
    "%matplotlib inline\n",
    "pd.crosstab(data.ecg,data.heart_disease).plot(kind='bar')\n",
    "plt.title('disease Frequency for ecg')\n",
    "plt.xlabel('ecg')\n",
    "plt.ylabel('frequency of disease')"
   ]
  },
  {
   "cell_type": "code",
   "execution_count": 106,
   "metadata": {},
   "outputs": [
    {
     "data": {
      "text/plain": [
       "Text(0, 0.5, 'frequency of disease')"
      ]
     },
     "execution_count": 106,
     "metadata": {},
     "output_type": "execute_result"
    },
    {
     "data": {
      "image/png": "[encoded data removed]",
      "text/plain": [
       "<Figure size 432x288 with 1 Axes>"
      ]
     },
     "metadata": {
      "needs_background": "light"
     },
     "output_type": "display_data"
    }
   ],
   "source": [
    "%matplotlib inline\n",
    "pd.crosstab(data.thal,data.heart_disease).plot(kind='bar')\n",
    "plt.title('disease Frequency for thal')\n",
    "plt.xlabel('thal')\n",
    "plt.ylabel('frequency of disease')"
   ]
  },
  {
   "cell_type": "code",
   "execution_count": 107,
   "metadata": {},
   "outputs": [],
   "source": [
    "# Use pandas.get_dummies and put the column names for the categorical variables (refer to the documentation to find which columns are categorical variables). This will create a dummy variable for each level of categories.\n",
    "\n",
    "data = pd.get_dummies(data , columns = ['ecg','chest_pain','thal'])"
   ]
  },
  {
   "cell_type": "code",
   "execution_count": 108,
   "metadata": {},
   "outputs": [
    {
     "data": {
      "text/plain": [
       "1    150\n",
       "2    120\n",
       "Name: heart_disease, dtype: int64"
      ]
     },
     "execution_count": 108,
     "metadata": {},
     "output_type": "execute_result"
    }
   ],
   "source": [
    "# What is number of classes disease/not_disease?\n",
    "data['heart_disease'].value_counts()\n",
    "# Absence of heart disease - 150\n",
    "# Presence of heart disease - 120"
   ]
  },
  {
   "cell_type": "code",
   "execution_count": 109,
   "metadata": {},
   "outputs": [
    {
     "data": {
      "image/png": "[encoded data removed]",
      "text/plain": [
       "<Figure size 432x288 with 1 Axes>"
      ]
     },
     "metadata": {
      "needs_background": "light"
     },
     "output_type": "display_data"
    }
   ],
   "source": [
    "import seaborn as sns\n",
    "sns.countplot(x='heart_disease', data=data, palette='hls')\n",
    "plt.show()"
   ]
  },
  {
   "cell_type": "code",
   "execution_count": 110,
   "metadata": {},
   "outputs": [],
   "source": [
    "# Get your class labels in a variable called y, and remove it from your dataframe . Now, data contains your samples and features, and y contains your labels\n",
    "y = data['heart_disease']\n",
    "data.drop('heart_disease', axis=1, inplace=True)"
   ]
  },
  {
   "cell_type": "code",
   "execution_count": 111,
   "metadata": {},
   "outputs": [
    {
     "name": "stdout",
     "output_type": "stream",
     "text": [
      "(216, 20) (216,)\n",
      "(54, 20) (54,)\n"
     ]
    }
   ],
   "source": [
    "# Split the data into a train and validation set. You won't touch the test set until the very end of this program. \n",
    "# Perform any analysis (model selection, hyperparameter selection) on your training data (X_train_outer)\n",
    "# DO NOT TOUCH X_test UNTIL THE END OF THIS PROGRAM!!!!\n",
    "X_train_outer, X_test, y_train_outer, y_test = train_test_split(data, y, test_size=0.2,random_state = 23)\n",
    "print (X_train_outer.shape, y_train_outer.shape)\n",
    "print (X_test.shape, y_test.shape)"
   ]
  },
  {
   "cell_type": "markdown",
   "metadata": {},
   "source": [
    "### Problem 2) Classification using nearest neighbor classifier, and see overfitting and underfitting by changing the value of n_neighbors (vary it from 1 to the number of samples -- len(X_train_inner)) What is the accuracy on training and validation when k=1? What about k=len(X_train_inner) ? When underfitting happens when overfitting?"
   ]
  },
  {
   "cell_type": "code",
   "execution_count": 112,
   "metadata": {},
   "outputs": [
    {
     "name": "stdout",
     "output_type": "stream",
     "text": [
      "(172, 20) (172,)\n",
      "(44, 20) (44,)\n"
     ]
    }
   ],
   "source": [
    "# Split X_train_outer again into X_train_inner, X_val, y_train_inner, y_val (We have an inner training set, and the validation set)\n",
    "X_train_inner, X_val, y_train_inner, y_val = train_test_split(X_train_outer, y_train_outer, test_size=0.2,random_state = 23)\n",
    "print (X_train_inner.shape, y_train_inner.shape)\n",
    "print (X_val.shape, y_val.shape)"
   ]
  },
  {
   "cell_type": "code",
   "execution_count": 113,
   "metadata": {},
   "outputs": [],
   "source": [
    "# Standardize the training set, and then apply the transformation values to the val set\n",
    "from sklearn.preprocessing import StandardScaler\n",
    "scaler = StandardScaler().fit(X_train_inner)\n",
    "X_train_inner_std = scaler.transform(X_train_inner)\n",
    "X_val_std  = scaler.transform(X_val)"
   ]
  },
  {
   "cell_type": "code",
   "execution_count": 114,
   "metadata": {},
   "outputs": [
    {
     "name": "stdout",
     "output_type": "stream",
     "text": [
      "Accuracy on training data for K= 1 is : 1.0\n",
      "Accuracy on validation data for K= 1 is : 0.6136363636363636\n",
      "Accuracy on training data for K= 2 is : 0.872093023255814\n",
      "Accuracy on validation data for K= 2 is : 0.6818181818181818\n",
      "Accuracy on training data for K= 3 is : 0.8837209302325582\n",
      "Accuracy on validation data for K= 3 is : 0.7045454545454546\n",
      "Accuracy on training data for K= 4 is : 0.872093023255814\n",
      "Accuracy on validation data for K= 4 is : 0.7045454545454546\n",
      "Accuracy on training data for K= 5 is : 0.877906976744186\n",
      "Accuracy on validation data for K= 5 is : 0.7272727272727273\n",
      "Accuracy on training data for K= 6 is : 0.877906976744186\n",
      "Accuracy on validation data for K= 6 is : 0.7272727272727273\n",
      "Accuracy on training data for K= 7 is : 0.8895348837209303\n",
      "Accuracy on validation data for K= 7 is : 0.7045454545454546\n",
      "Accuracy on training data for K= 8 is : 0.8895348837209303\n",
      "Accuracy on validation data for K= 8 is : 0.7045454545454546\n",
      "Accuracy on training data for K= 9 is : 0.8953488372093024\n",
      "Accuracy on validation data for K= 9 is : 0.7272727272727273\n",
      "Accuracy on training data for K= 10 is : 0.8895348837209303\n",
      "Accuracy on validation data for K= 10 is : 0.7272727272727273\n",
      "Accuracy on training data for K= 11 is : 0.8895348837209303\n",
      "Accuracy on validation data for K= 11 is : 0.7045454545454546\n",
      "Accuracy on training data for K= 12 is : 0.872093023255814\n",
      "Accuracy on validation data for K= 12 is : 0.75\n",
      "Accuracy on training data for K= 13 is : 0.8895348837209303\n",
      "Accuracy on validation data for K= 13 is : 0.7272727272727273\n",
      "Accuracy on training data for K= 14 is : 0.8895348837209303\n",
      "Accuracy on validation data for K= 14 is : 0.7272727272727273\n",
      "Accuracy on training data for K= 15 is : 0.8895348837209303\n",
      "Accuracy on validation data for K= 15 is : 0.7272727272727273\n",
      "Accuracy on training data for K= 16 is : 0.8837209302325582\n",
      "Accuracy on validation data for K= 16 is : 0.7272727272727273\n",
      "Accuracy on training data for K= 17 is : 0.8895348837209303\n",
      "Accuracy on validation data for K= 17 is : 0.7272727272727273\n",
      "Accuracy on training data for K= 18 is : 0.8837209302325582\n",
      "Accuracy on validation data for K= 18 is : 0.7272727272727273\n",
      "Accuracy on training data for K= 19 is : 0.8895348837209303\n",
      "Accuracy on validation data for K= 19 is : 0.7272727272727273\n",
      "Accuracy on training data for K= 20 is : 0.8837209302325582\n",
      "Accuracy on validation data for K= 20 is : 0.7272727272727273\n",
      "Accuracy on training data for K= 21 is : 0.8953488372093024\n",
      "Accuracy on validation data for K= 21 is : 0.7272727272727273\n",
      "Accuracy on training data for K= 22 is : 0.9011627906976745\n",
      "Accuracy on validation data for K= 22 is : 0.7272727272727273\n",
      "Accuracy on training data for K= 23 is : 0.8953488372093024\n",
      "Accuracy on validation data for K= 23 is : 0.7272727272727273\n",
      "Accuracy on training data for K= 24 is : 0.8837209302325582\n",
      "Accuracy on validation data for K= 24 is : 0.7272727272727273\n",
      "Accuracy on training data for K= 25 is : 0.8837209302325582\n",
      "Accuracy on validation data for K= 25 is : 0.7272727272727273\n",
      "Accuracy on training data for K= 26 is : 0.8895348837209303\n",
      "Accuracy on validation data for K= 26 is : 0.7272727272727273\n",
      "Accuracy on training data for K= 27 is : 0.8837209302325582\n",
      "Accuracy on validation data for K= 27 is : 0.7272727272727273\n",
      "Accuracy on training data for K= 28 is : 0.8895348837209303\n",
      "Accuracy on validation data for K= 28 is : 0.75\n",
      "Accuracy on training data for K= 29 is : 0.8953488372093024\n",
      "Accuracy on validation data for K= 29 is : 0.7272727272727273\n",
      "Accuracy on training data for K= 30 is : 0.8895348837209303\n",
      "Accuracy on validation data for K= 30 is : 0.7272727272727273\n",
      "Accuracy on training data for K= 31 is : 0.8953488372093024\n",
      "Accuracy on validation data for K= 31 is : 0.7272727272727273\n",
      "Accuracy on training data for K= 32 is : 0.9011627906976745\n",
      "Accuracy on validation data for K= 32 is : 0.7272727272727273\n",
      "Accuracy on training data for K= 33 is : 0.8895348837209303\n",
      "Accuracy on validation data for K= 33 is : 0.7272727272727273\n",
      "Accuracy on training data for K= 34 is : 0.8895348837209303\n",
      "Accuracy on validation data for K= 34 is : 0.7272727272727273\n",
      "Accuracy on training data for K= 35 is : 0.8953488372093024\n",
      "Accuracy on validation data for K= 35 is : 0.7272727272727273\n",
      "Accuracy on training data for K= 36 is : 0.8953488372093024\n",
      "Accuracy on validation data for K= 36 is : 0.7272727272727273\n",
      "Accuracy on training data for K= 37 is : 0.8953488372093024\n",
      "Accuracy on validation data for K= 37 is : 0.7272727272727273\n",
      "Accuracy on training data for K= 38 is : 0.8953488372093024\n",
      "Accuracy on validation data for K= 38 is : 0.7272727272727273\n",
      "Accuracy on training data for K= 39 is : 0.8895348837209303\n",
      "Accuracy on validation data for K= 39 is : 0.7272727272727273\n",
      "Accuracy on training data for K= 40 is : 0.8895348837209303\n",
      "Accuracy on validation data for K= 40 is : 0.7272727272727273\n",
      "Accuracy on training data for K= 41 is : 0.8895348837209303\n",
      "Accuracy on validation data for K= 41 is : 0.7272727272727273\n",
      "Accuracy on training data for K= 42 is : 0.8837209302325582\n",
      "Accuracy on validation data for K= 42 is : 0.7272727272727273\n",
      "Accuracy on training data for K= 43 is : 0.8837209302325582\n",
      "Accuracy on validation data for K= 43 is : 0.7272727272727273\n",
      "Accuracy on training data for K= 44 is : 0.8837209302325582\n",
      "Accuracy on validation data for K= 44 is : 0.7272727272727273\n",
      "Accuracy on training data for K= 45 is : 0.8895348837209303\n",
      "Accuracy on validation data for K= 45 is : 0.7272727272727273\n",
      "Accuracy on training data for K= 46 is : 0.8895348837209303\n",
      "Accuracy on validation data for K= 46 is : 0.75\n",
      "Accuracy on training data for K= 47 is : 0.8837209302325582\n",
      "Accuracy on validation data for K= 47 is : 0.75\n",
      "Accuracy on training data for K= 48 is : 0.8837209302325582\n",
      "Accuracy on validation data for K= 48 is : 0.7727272727272727\n",
      "Accuracy on training data for K= 49 is : 0.8837209302325582\n",
      "Accuracy on validation data for K= 49 is : 0.75\n",
      "Accuracy on training data for K= 50 is : 0.877906976744186\n",
      "Accuracy on validation data for K= 50 is : 0.75\n",
      "Accuracy on training data for K= 51 is : 0.877906976744186\n",
      "Accuracy on validation data for K= 51 is : 0.75\n",
      "Accuracy on training data for K= 52 is : 0.8837209302325582\n",
      "Accuracy on validation data for K= 52 is : 0.7727272727272727\n",
      "Accuracy on training data for K= 53 is : 0.8837209302325582\n",
      "Accuracy on validation data for K= 53 is : 0.7727272727272727\n",
      "Accuracy on training data for K= 54 is : 0.8895348837209303\n",
      "Accuracy on validation data for K= 54 is : 0.7727272727272727\n",
      "Accuracy on training data for K= 55 is : 0.8895348837209303\n",
      "Accuracy on validation data for K= 55 is : 0.75\n",
      "Accuracy on training data for K= 56 is : 0.877906976744186\n",
      "Accuracy on validation data for K= 56 is : 0.7727272727272727\n",
      "Accuracy on training data for K= 57 is : 0.8837209302325582\n",
      "Accuracy on validation data for K= 57 is : 0.75\n",
      "Accuracy on training data for K= 58 is : 0.877906976744186\n",
      "Accuracy on validation data for K= 58 is : 0.7727272727272727\n",
      "Accuracy on training data for K= 59 is : 0.872093023255814\n",
      "Accuracy on validation data for K= 59 is : 0.7727272727272727\n",
      "Accuracy on training data for K= 60 is : 0.877906976744186\n",
      "Accuracy on validation data for K= 60 is : 0.7727272727272727\n",
      "Accuracy on training data for K= 61 is : 0.872093023255814\n",
      "Accuracy on validation data for K= 61 is : 0.7727272727272727\n",
      "Accuracy on training data for K= 62 is : 0.8662790697674418\n",
      "Accuracy on validation data for K= 62 is : 0.7727272727272727\n",
      "Accuracy on training data for K= 63 is : 0.8662790697674418\n",
      "Accuracy on validation data for K= 63 is : 0.7727272727272727\n",
      "Accuracy on training data for K= 64 is : 0.8662790697674418\n",
      "Accuracy on validation data for K= 64 is : 0.7727272727272727\n",
      "Accuracy on training data for K= 65 is : 0.8662790697674418\n",
      "Accuracy on validation data for K= 65 is : 0.7727272727272727\n",
      "Accuracy on training data for K= 66 is : 0.8662790697674418\n",
      "Accuracy on validation data for K= 66 is : 0.7727272727272727\n",
      "Accuracy on training data for K= 67 is : 0.872093023255814\n",
      "Accuracy on validation data for K= 67 is : 0.7727272727272727\n",
      "Accuracy on training data for K= 68 is : 0.877906976744186\n",
      "Accuracy on validation data for K= 68 is : 0.7727272727272727\n",
      "Accuracy on training data for K= 69 is : 0.872093023255814\n",
      "Accuracy on validation data for K= 69 is : 0.7727272727272727\n",
      "Accuracy on training data for K= 70 is : 0.872093023255814\n",
      "Accuracy on validation data for K= 70 is : 0.7727272727272727\n",
      "Accuracy on training data for K= 71 is : 0.872093023255814\n",
      "Accuracy on validation data for K= 71 is : 0.7727272727272727\n",
      "Accuracy on training data for K= 72 is : 0.877906976744186\n",
      "Accuracy on validation data for K= 72 is : 0.7954545454545454\n"
     ]
    },
    {
     "name": "stdout",
     "output_type": "stream",
     "text": [
      "Accuracy on training data for K= 73 is : 0.872093023255814\n",
      "Accuracy on validation data for K= 73 is : 0.7954545454545454\n",
      "Accuracy on training data for K= 74 is : 0.877906976744186\n",
      "Accuracy on validation data for K= 74 is : 0.7954545454545454\n",
      "Accuracy on training data for K= 75 is : 0.872093023255814\n",
      "Accuracy on validation data for K= 75 is : 0.7954545454545454\n",
      "Accuracy on training data for K= 76 is : 0.872093023255814\n",
      "Accuracy on validation data for K= 76 is : 0.7954545454545454\n",
      "Accuracy on training data for K= 77 is : 0.877906976744186\n",
      "Accuracy on validation data for K= 77 is : 0.7954545454545454\n",
      "Accuracy on training data for K= 78 is : 0.877906976744186\n",
      "Accuracy on validation data for K= 78 is : 0.7954545454545454\n",
      "Accuracy on training data for K= 79 is : 0.877906976744186\n",
      "Accuracy on validation data for K= 79 is : 0.7954545454545454\n",
      "Accuracy on training data for K= 80 is : 0.8837209302325582\n",
      "Accuracy on validation data for K= 80 is : 0.7954545454545454\n",
      "Accuracy on training data for K= 81 is : 0.8837209302325582\n",
      "Accuracy on validation data for K= 81 is : 0.7954545454545454\n",
      "Accuracy on training data for K= 82 is : 0.8895348837209303\n",
      "Accuracy on validation data for K= 82 is : 0.7954545454545454\n",
      "Accuracy on training data for K= 83 is : 0.8895348837209303\n",
      "Accuracy on validation data for K= 83 is : 0.7954545454545454\n",
      "Accuracy on training data for K= 84 is : 0.8895348837209303\n",
      "Accuracy on validation data for K= 84 is : 0.8181818181818182\n",
      "Accuracy on training data for K= 85 is : 0.8895348837209303\n",
      "Accuracy on validation data for K= 85 is : 0.7954545454545454\n",
      "Accuracy on training data for K= 86 is : 0.872093023255814\n",
      "Accuracy on validation data for K= 86 is : 0.8181818181818182\n",
      "Accuracy on training data for K= 87 is : 0.877906976744186\n",
      "Accuracy on validation data for K= 87 is : 0.7954545454545454\n",
      "Accuracy on training data for K= 88 is : 0.872093023255814\n",
      "Accuracy on validation data for K= 88 is : 0.7954545454545454\n",
      "Accuracy on training data for K= 89 is : 0.8837209302325582\n",
      "Accuracy on validation data for K= 89 is : 0.7954545454545454\n",
      "Accuracy on training data for K= 90 is : 0.877906976744186\n",
      "Accuracy on validation data for K= 90 is : 0.7954545454545454\n",
      "Accuracy on training data for K= 91 is : 0.877906976744186\n",
      "Accuracy on validation data for K= 91 is : 0.7954545454545454\n",
      "Accuracy on training data for K= 92 is : 0.8662790697674418\n",
      "Accuracy on validation data for K= 92 is : 0.8181818181818182\n",
      "Accuracy on training data for K= 93 is : 0.8662790697674418\n",
      "Accuracy on validation data for K= 93 is : 0.7954545454545454\n",
      "Accuracy on training data for K= 94 is : 0.8604651162790697\n",
      "Accuracy on validation data for K= 94 is : 0.7727272727272727\n",
      "Accuracy on training data for K= 95 is : 0.8604651162790697\n",
      "Accuracy on validation data for K= 95 is : 0.75\n",
      "Accuracy on training data for K= 96 is : 0.8604651162790697\n",
      "Accuracy on validation data for K= 96 is : 0.75\n",
      "Accuracy on training data for K= 97 is : 0.872093023255814\n",
      "Accuracy on validation data for K= 97 is : 0.75\n",
      "Accuracy on training data for K= 98 is : 0.8662790697674418\n",
      "Accuracy on validation data for K= 98 is : 0.75\n",
      "Accuracy on training data for K= 99 is : 0.8662790697674418\n",
      "Accuracy on validation data for K= 99 is : 0.7727272727272727\n",
      "Accuracy on training data for K= 100 is : 0.8546511627906976\n",
      "Accuracy on validation data for K= 100 is : 0.7727272727272727\n",
      "Accuracy on training data for K= 101 is : 0.8662790697674418\n",
      "Accuracy on validation data for K= 101 is : 0.7727272727272727\n",
      "Accuracy on training data for K= 102 is : 0.8546511627906976\n",
      "Accuracy on validation data for K= 102 is : 0.7727272727272727\n",
      "Accuracy on training data for K= 103 is : 0.8604651162790697\n",
      "Accuracy on validation data for K= 103 is : 0.7727272727272727\n",
      "Accuracy on training data for K= 104 is : 0.8604651162790697\n",
      "Accuracy on validation data for K= 104 is : 0.7727272727272727\n",
      "Accuracy on training data for K= 105 is : 0.8662790697674418\n",
      "Accuracy on validation data for K= 105 is : 0.75\n",
      "Accuracy on training data for K= 106 is : 0.8546511627906976\n",
      "Accuracy on validation data for K= 106 is : 0.7727272727272727\n",
      "Accuracy on training data for K= 107 is : 0.8604651162790697\n",
      "Accuracy on validation data for K= 107 is : 0.7727272727272727\n",
      "Accuracy on training data for K= 108 is : 0.8372093023255814\n",
      "Accuracy on validation data for K= 108 is : 0.7727272727272727\n",
      "Accuracy on training data for K= 109 is : 0.8546511627906976\n",
      "Accuracy on validation data for K= 109 is : 0.75\n",
      "Accuracy on training data for K= 110 is : 0.8255813953488372\n",
      "Accuracy on validation data for K= 110 is : 0.7727272727272727\n",
      "Accuracy on training data for K= 111 is : 0.8372093023255814\n",
      "Accuracy on validation data for K= 111 is : 0.75\n",
      "Accuracy on training data for K= 112 is : 0.8081395348837209\n",
      "Accuracy on validation data for K= 112 is : 0.7727272727272727\n",
      "Accuracy on training data for K= 113 is : 0.8081395348837209\n",
      "Accuracy on validation data for K= 113 is : 0.7272727272727273\n",
      "Accuracy on training data for K= 114 is : 0.8081395348837209\n",
      "Accuracy on validation data for K= 114 is : 0.7727272727272727\n",
      "Accuracy on training data for K= 115 is : 0.813953488372093\n",
      "Accuracy on validation data for K= 115 is : 0.7727272727272727\n",
      "Accuracy on training data for K= 116 is : 0.8081395348837209\n",
      "Accuracy on validation data for K= 116 is : 0.7727272727272727\n",
      "Accuracy on training data for K= 117 is : 0.8081395348837209\n",
      "Accuracy on validation data for K= 117 is : 0.7727272727272727\n",
      "Accuracy on training data for K= 118 is : 0.8023255813953488\n",
      "Accuracy on validation data for K= 118 is : 0.7727272727272727\n",
      "Accuracy on training data for K= 119 is : 0.8081395348837209\n",
      "Accuracy on validation data for K= 119 is : 0.7727272727272727\n",
      "Accuracy on training data for K= 120 is : 0.8081395348837209\n",
      "Accuracy on validation data for K= 120 is : 0.75\n",
      "Accuracy on training data for K= 121 is : 0.8081395348837209\n",
      "Accuracy on validation data for K= 121 is : 0.7727272727272727\n",
      "Accuracy on training data for K= 122 is : 0.8081395348837209\n",
      "Accuracy on validation data for K= 122 is : 0.75\n",
      "Accuracy on training data for K= 123 is : 0.8081395348837209\n",
      "Accuracy on validation data for K= 123 is : 0.75\n",
      "Accuracy on training data for K= 124 is : 0.8023255813953488\n",
      "Accuracy on validation data for K= 124 is : 0.7727272727272727\n",
      "Accuracy on training data for K= 125 is : 0.8023255813953488\n",
      "Accuracy on validation data for K= 125 is : 0.7727272727272727\n",
      "Accuracy on training data for K= 126 is : 0.7965116279069767\n",
      "Accuracy on validation data for K= 126 is : 0.7727272727272727\n",
      "Accuracy on training data for K= 127 is : 0.8023255813953488\n",
      "Accuracy on validation data for K= 127 is : 0.7727272727272727\n",
      "Accuracy on training data for K= 128 is : 0.7906976744186046\n",
      "Accuracy on validation data for K= 128 is : 0.7727272727272727\n",
      "Accuracy on training data for K= 129 is : 0.7906976744186046\n",
      "Accuracy on validation data for K= 129 is : 0.7727272727272727\n",
      "Accuracy on training data for K= 130 is : 0.7732558139534884\n",
      "Accuracy on validation data for K= 130 is : 0.7727272727272727\n",
      "Accuracy on training data for K= 131 is : 0.7790697674418605\n",
      "Accuracy on validation data for K= 131 is : 0.7727272727272727\n",
      "Accuracy on training data for K= 132 is : 0.7674418604651163\n",
      "Accuracy on validation data for K= 132 is : 0.7727272727272727\n",
      "Accuracy on training data for K= 133 is : 0.7674418604651163\n",
      "Accuracy on validation data for K= 133 is : 0.7727272727272727\n",
      "Accuracy on training data for K= 134 is : 0.7616279069767442\n",
      "Accuracy on validation data for K= 134 is : 0.75\n",
      "Accuracy on training data for K= 135 is : 0.7732558139534884\n",
      "Accuracy on validation data for K= 135 is : 0.7727272727272727\n",
      "Accuracy on training data for K= 136 is : 0.7383720930232558\n",
      "Accuracy on validation data for K= 136 is : 0.75\n",
      "Accuracy on training data for K= 137 is : 0.75\n",
      "Accuracy on validation data for K= 137 is : 0.75\n",
      "Accuracy on training data for K= 138 is : 0.7093023255813954\n",
      "Accuracy on validation data for K= 138 is : 0.7272727272727273\n",
      "Accuracy on training data for K= 139 is : 0.7209302325581395\n",
      "Accuracy on validation data for K= 139 is : 0.7272727272727273\n",
      "Accuracy on training data for K= 140 is : 0.6802325581395349\n",
      "Accuracy on validation data for K= 140 is : 0.7272727272727273\n",
      "Accuracy on training data for K= 141 is : 0.686046511627907\n",
      "Accuracy on validation data for K= 141 is : 0.7272727272727273\n",
      "Accuracy on training data for K= 142 is : 0.6744186046511628\n"
     ]
    },
    {
     "name": "stdout",
     "output_type": "stream",
     "text": [
      "Accuracy on validation data for K= 142 is : 0.7045454545454546\n",
      "Accuracy on training data for K= 143 is : 0.686046511627907\n",
      "Accuracy on validation data for K= 143 is : 0.7045454545454546\n",
      "Accuracy on training data for K= 144 is : 0.6511627906976745\n",
      "Accuracy on validation data for K= 144 is : 0.6818181818181818\n",
      "Accuracy on training data for K= 145 is : 0.6627906976744186\n",
      "Accuracy on validation data for K= 145 is : 0.7045454545454546\n",
      "Accuracy on training data for K= 146 is : 0.6337209302325582\n",
      "Accuracy on validation data for K= 146 is : 0.6818181818181818\n",
      "Accuracy on training data for K= 147 is : 0.6337209302325582\n",
      "Accuracy on validation data for K= 147 is : 0.6818181818181818\n",
      "Accuracy on training data for K= 148 is : 0.5930232558139535\n",
      "Accuracy on validation data for K= 148 is : 0.6590909090909091\n",
      "Accuracy on training data for K= 149 is : 0.5988372093023255\n",
      "Accuracy on validation data for K= 149 is : 0.6590909090909091\n",
      "Accuracy on training data for K= 150 is : 0.5581395348837209\n",
      "Accuracy on validation data for K= 150 is : 0.6136363636363636\n",
      "Accuracy on training data for K= 151 is : 0.5581395348837209\n",
      "Accuracy on validation data for K= 151 is : 0.6136363636363636\n",
      "Accuracy on training data for K= 152 is : 0.5523255813953488\n",
      "Accuracy on validation data for K= 152 is : 0.5909090909090909\n",
      "Accuracy on training data for K= 153 is : 0.5523255813953488\n",
      "Accuracy on validation data for K= 153 is : 0.5909090909090909\n",
      "Accuracy on training data for K= 154 is : 0.5523255813953488\n",
      "Accuracy on validation data for K= 154 is : 0.5909090909090909\n",
      "Accuracy on training data for K= 155 is : 0.5523255813953488\n",
      "Accuracy on validation data for K= 155 is : 0.5909090909090909\n",
      "Accuracy on training data for K= 156 is : 0.5523255813953488\n",
      "Accuracy on validation data for K= 156 is : 0.5909090909090909\n",
      "Accuracy on training data for K= 157 is : 0.5523255813953488\n",
      "Accuracy on validation data for K= 157 is : 0.5909090909090909\n",
      "Accuracy on training data for K= 158 is : 0.5523255813953488\n",
      "Accuracy on validation data for K= 158 is : 0.5909090909090909\n",
      "Accuracy on training data for K= 159 is : 0.5523255813953488\n",
      "Accuracy on validation data for K= 159 is : 0.5909090909090909\n",
      "Accuracy on training data for K= 160 is : 0.5523255813953488\n",
      "Accuracy on validation data for K= 160 is : 0.5909090909090909\n",
      "Accuracy on training data for K= 161 is : 0.5523255813953488\n",
      "Accuracy on validation data for K= 161 is : 0.5909090909090909\n",
      "Accuracy on training data for K= 162 is : 0.5523255813953488\n",
      "Accuracy on validation data for K= 162 is : 0.5909090909090909\n",
      "Accuracy on training data for K= 163 is : 0.5523255813953488\n",
      "Accuracy on validation data for K= 163 is : 0.5909090909090909\n",
      "Accuracy on training data for K= 164 is : 0.5523255813953488\n",
      "Accuracy on validation data for K= 164 is : 0.5909090909090909\n",
      "Accuracy on training data for K= 165 is : 0.5523255813953488\n",
      "Accuracy on validation data for K= 165 is : 0.5909090909090909\n",
      "Accuracy on training data for K= 166 is : 0.5523255813953488\n",
      "Accuracy on validation data for K= 166 is : 0.5909090909090909\n",
      "Accuracy on training data for K= 167 is : 0.5523255813953488\n",
      "Accuracy on validation data for K= 167 is : 0.5909090909090909\n",
      "Accuracy on training data for K= 168 is : 0.5523255813953488\n",
      "Accuracy on validation data for K= 168 is : 0.5909090909090909\n",
      "Accuracy on training data for K= 169 is : 0.5523255813953488\n",
      "Accuracy on validation data for K= 169 is : 0.5909090909090909\n",
      "Accuracy on training data for K= 170 is : 0.5523255813953488\n",
      "Accuracy on validation data for K= 170 is : 0.5909090909090909\n",
      "Accuracy on training data for K= 171 is : 0.5523255813953488\n",
      "Accuracy on validation data for K= 171 is : 0.5909090909090909\n",
      "Accuracy on training data for K= 172 is : 0.5523255813953488\n",
      "Accuracy on validation data for K= 172 is : 0.5909090909090909\n"
     ]
    }
   ],
   "source": [
    "# Fit a K-nearest neighbor classifier model to X_train_inner_std data --> Change the value of n_neighbors here and report the accuracies you get\n",
    "K_values = np.arange(0,len(X_train_inner))\n",
    "\n",
    "accuracy_training = np.array([])\n",
    "accuracy_validation = np.array([])\n",
    "\n",
    "for k in range(len(K_values)):\n",
    "    neigh = KNeighborsClassifier(n_neighbors=k+1)\n",
    "    neigh.fit(X_train_inner_std, y_train_inner)\n",
    "    \n",
    "    X_train_inner_std_pred = neigh.predict(X_train_inner_std)\n",
    "    acc_train = accuracy_score(y_train_inner, X_train_inner_std_pred)\n",
    "    accuracy_training = np.append(accuracy_training,acc_train)\n",
    "    print('Accuracy on training data for K= {} is : {}'.format(k+1,acc_train))\n",
    "    \n",
    "    X_val_std_pred = neigh.predict(X_val_std)\n",
    "    acc_val = accuracy_score(y_val, X_val_std_pred)\n",
    "    accuracy_validation = np.append(accuracy_validation,acc_val)\n",
    "    print('Accuracy on validation data for K= {} is : {}'.format(k+1,acc_val))"
   ]
  },
  {
   "cell_type": "code",
   "execution_count": 115,
   "metadata": {},
   "outputs": [
    {
     "name": "stdout",
     "output_type": "stream",
     "text": [
      "Accuracy on validation data is : [0.61363636 0.68181818 0.70454545 0.70454545 0.72727273 0.72727273\n",
      " 0.70454545 0.70454545 0.72727273 0.72727273 0.70454545 0.75\n",
      " 0.72727273 0.72727273 0.72727273 0.72727273 0.72727273 0.72727273\n",
      " 0.72727273 0.72727273 0.72727273 0.72727273 0.72727273 0.72727273\n",
      " 0.72727273 0.72727273 0.72727273 0.75       0.72727273 0.72727273\n",
      " 0.72727273 0.72727273 0.72727273 0.72727273 0.72727273 0.72727273\n",
      " 0.72727273 0.72727273 0.72727273 0.72727273 0.72727273 0.72727273\n",
      " 0.72727273 0.72727273 0.72727273 0.75       0.75       0.77272727\n",
      " 0.75       0.75       0.75       0.77272727 0.77272727 0.77272727\n",
      " 0.75       0.77272727 0.75       0.77272727 0.77272727 0.77272727\n",
      " 0.77272727 0.77272727 0.77272727 0.77272727 0.77272727 0.77272727\n",
      " 0.77272727 0.77272727 0.77272727 0.77272727 0.77272727 0.79545455\n",
      " 0.79545455 0.79545455 0.79545455 0.79545455 0.79545455 0.79545455\n",
      " 0.79545455 0.79545455 0.79545455 0.79545455 0.79545455 0.81818182\n",
      " 0.79545455 0.81818182 0.79545455 0.79545455 0.79545455 0.79545455\n",
      " 0.79545455 0.81818182 0.79545455 0.77272727 0.75       0.75\n",
      " 0.75       0.75       0.77272727 0.77272727 0.77272727 0.77272727\n",
      " 0.77272727 0.77272727 0.75       0.77272727 0.77272727 0.77272727\n",
      " 0.75       0.77272727 0.75       0.77272727 0.72727273 0.77272727\n",
      " 0.77272727 0.77272727 0.77272727 0.77272727 0.77272727 0.75\n",
      " 0.77272727 0.75       0.75       0.77272727 0.77272727 0.77272727\n",
      " 0.77272727 0.77272727 0.77272727 0.77272727 0.77272727 0.77272727\n",
      " 0.77272727 0.75       0.77272727 0.75       0.75       0.72727273\n",
      " 0.72727273 0.72727273 0.72727273 0.70454545 0.70454545 0.68181818\n",
      " 0.70454545 0.68181818 0.68181818 0.65909091 0.65909091 0.61363636\n",
      " 0.61363636 0.59090909 0.59090909 0.59090909 0.59090909 0.59090909\n",
      " 0.59090909 0.59090909 0.59090909 0.59090909 0.59090909 0.59090909\n",
      " 0.59090909 0.59090909 0.59090909 0.59090909 0.59090909 0.59090909\n",
      " 0.59090909 0.59090909 0.59090909 0.59090909]\n"
     ]
    }
   ],
   "source": [
    "# Print accuracy on your validation data (X_val_std)\n",
    "print('Accuracy on validation data is : {}'.format(accuracy_validation))"
   ]
  },
  {
   "cell_type": "code",
   "execution_count": 116,
   "metadata": {},
   "outputs": [
    {
     "name": "stdout",
     "output_type": "stream",
     "text": [
      "Accuracy on training data is : [1.         0.87209302 0.88372093 0.87209302 0.87790698 0.87790698\n",
      " 0.88953488 0.88953488 0.89534884 0.88953488 0.88953488 0.87209302\n",
      " 0.88953488 0.88953488 0.88953488 0.88372093 0.88953488 0.88372093\n",
      " 0.88953488 0.88372093 0.89534884 0.90116279 0.89534884 0.88372093\n",
      " 0.88372093 0.88953488 0.88372093 0.88953488 0.89534884 0.88953488\n",
      " 0.89534884 0.90116279 0.88953488 0.88953488 0.89534884 0.89534884\n",
      " 0.89534884 0.89534884 0.88953488 0.88953488 0.88953488 0.88372093\n",
      " 0.88372093 0.88372093 0.88953488 0.88953488 0.88372093 0.88372093\n",
      " 0.88372093 0.87790698 0.87790698 0.88372093 0.88372093 0.88953488\n",
      " 0.88953488 0.87790698 0.88372093 0.87790698 0.87209302 0.87790698\n",
      " 0.87209302 0.86627907 0.86627907 0.86627907 0.86627907 0.86627907\n",
      " 0.87209302 0.87790698 0.87209302 0.87209302 0.87209302 0.87790698\n",
      " 0.87209302 0.87790698 0.87209302 0.87209302 0.87790698 0.87790698\n",
      " 0.87790698 0.88372093 0.88372093 0.88953488 0.88953488 0.88953488\n",
      " 0.88953488 0.87209302 0.87790698 0.87209302 0.88372093 0.87790698\n",
      " 0.87790698 0.86627907 0.86627907 0.86046512 0.86046512 0.86046512\n",
      " 0.87209302 0.86627907 0.86627907 0.85465116 0.86627907 0.85465116\n",
      " 0.86046512 0.86046512 0.86627907 0.85465116 0.86046512 0.8372093\n",
      " 0.85465116 0.8255814  0.8372093  0.80813953 0.80813953 0.80813953\n",
      " 0.81395349 0.80813953 0.80813953 0.80232558 0.80813953 0.80813953\n",
      " 0.80813953 0.80813953 0.80813953 0.80232558 0.80232558 0.79651163\n",
      " 0.80232558 0.79069767 0.79069767 0.77325581 0.77906977 0.76744186\n",
      " 0.76744186 0.76162791 0.77325581 0.73837209 0.75       0.70930233\n",
      " 0.72093023 0.68023256 0.68604651 0.6744186  0.68604651 0.65116279\n",
      " 0.6627907  0.63372093 0.63372093 0.59302326 0.59883721 0.55813953\n",
      " 0.55813953 0.55232558 0.55232558 0.55232558 0.55232558 0.55232558\n",
      " 0.55232558 0.55232558 0.55232558 0.55232558 0.55232558 0.55232558\n",
      " 0.55232558 0.55232558 0.55232558 0.55232558 0.55232558 0.55232558\n",
      " 0.55232558 0.55232558 0.55232558 0.55232558]\n"
     ]
    }
   ],
   "source": [
    "# Print accuracy on your training data (X_train_inner_std)\n",
    "print('Accuracy on training data is : {}'.format(accuracy_training))"
   ]
  },
  {
   "cell_type": "markdown",
   "metadata": {},
   "source": [
    "### Problem 3) So, how to find best k? Perform 10-fold Cross-validation on your train set to find the best value of k for nearest neighbor classifier (you can also find it by trying different values on the hold-out set you defined above, but since the dataset is small, it is better to perform 10-fold cross-validation, why? because you may by chance get a hold-out validation set that works well with k=1! you never know! So, do it on 10 different val sets and average them to make sure you got a good k!"
   ]
  },
  {
   "cell_type": "code",
   "execution_count": 117,
   "metadata": {},
   "outputs": [],
   "source": [
    "# In each fold of your cross validation, your training fold needs to be first standardized (scaled), then an algorithm be fit\n",
    "# Then the same transformation will be applied to each validation fold\n",
    "# This is done by pipeline and is extremely useful when you use GridSearchCV or cross_val_score and etc..\n",
    "from sklearn.pipeline import Pipeline\n",
    "\n",
    "scaler = StandardScaler()\n",
    "clf = KNeighborsClassifier()\n",
    "pipeline = Pipeline([('transformer', scaler), ('estimator', clf)])"
   ]
  },
  {
   "cell_type": "code",
   "execution_count": 118,
   "metadata": {},
   "outputs": [],
   "source": [
    "# param_candidate defines the set of hyperparameters that you want your function to analyze\n",
    "from sklearn.model_selection import GridSearchCV\n",
    "param_candidate = [{'estimator__n_neighbors': np.arange(1, 100)}]"
   ]
  },
  {
   "cell_type": "code",
   "execution_count": 119,
   "metadata": {},
   "outputs": [
    {
     "name": "stderr",
     "output_type": "stream",
     "text": [
      "C:\\Users\\prath\\Anaconda3\\lib\\site-packages\\sklearn\\model_selection\\_search.py:813: DeprecationWarning: The default of the `iid` parameter will change from True to False in version 0.22 and will be removed in 0.24. This will change numeric results when test-set sizes are unequal.\n",
      "  DeprecationWarning)\n"
     ]
    },
    {
     "data": {
      "text/plain": [
       "GridSearchCV(cv=10, error_score='raise-deprecating',\n",
       "             estimator=Pipeline(memory=None,\n",
       "                                steps=[('transformer',\n",
       "                                        StandardScaler(copy=True,\n",
       "                                                       with_mean=True,\n",
       "                                                       with_std=True)),\n",
       "                                       ('estimator',\n",
       "                                        KNeighborsClassifier(algorithm='auto',\n",
       "                                                             leaf_size=30,\n",
       "                                                             metric='minkowski',\n",
       "                                                             metric_params=None,\n",
       "                                                             n_jobs=None,\n",
       "                                                             n_neighbors=5, p=2,\n",
       "                                                             weights='uniform'))],\n",
       "                                verbose=False),\n",
       "             iid='warn', n_jobs=None,\n",
       "             param_grid=[{'estimator__n_neighbors': array([ 1,  2,  3,  4,  5,  6,  7,  8,  9, 10, 11, 12, 13, 14, 15, 16, 17,\n",
       "       18, 19, 20, 21, 22, 23, 24, 25, 26, 27, 28, 29, 30, 31, 32, 33, 34,\n",
       "       35, 36, 37, 38, 39, 40, 41, 42, 43, 44, 45, 46, 47, 48, 49, 50, 51,\n",
       "       52, 53, 54, 55, 56, 57, 58, 59, 60, 61, 62, 63, 64, 65, 66, 67, 68,\n",
       "       69, 70, 71, 72, 73, 74, 75, 76, 77, 78, 79, 80, 81, 82, 83, 84, 85,\n",
       "       86, 87, 88, 89, 90, 91, 92, 93, 94, 95, 96, 97, 98, 99])}],\n",
       "             pre_dispatch='2*n_jobs', refit=True, return_train_score=False,\n",
       "             scoring=None, verbose=0)"
      ]
     },
     "execution_count": 119,
     "metadata": {},
     "output_type": "execute_result"
    }
   ],
   "source": [
    "# Create a classifier object with GridSearchCV and param_candidate and fit the GridSearchCV object with X_train_outer, and y_train_outer \n",
    "# Read Python's documentation if anything is unclear!\n",
    "clf = GridSearchCV(pipeline, param_grid=param_candidate, cv=10)\n",
    "clf.fit(X_train_outer,y_train_outer)"
   ]
  },
  {
   "cell_type": "code",
   "execution_count": 120,
   "metadata": {},
   "outputs": [
    {
     "name": "stdout",
     "output_type": "stream",
     "text": [
      "Best score for data1: 0.8611111111111112\n"
     ]
    }
   ],
   "source": [
    "# print clf.best_score_ (refer to Python's documentation for the attributes of clf)\n",
    "print('Best score for data1:', clf.best_score_) "
   ]
  },
  {
   "cell_type": "code",
   "execution_count": 121,
   "metadata": {},
   "outputs": [
    {
     "name": "stdout",
     "output_type": "stream",
     "text": [
      "Best k: {'estimator__n_neighbors': 28}\n"
     ]
    }
   ],
   "source": [
    "# View the best parameters for the model found using grid search\n",
    "print('Best k:',clf.best_params_) "
   ]
  },
  {
   "cell_type": "markdown",
   "metadata": {},
   "source": [
    "### Problem 4) Perform logistic regression with the default value of C=1, and obtain the cross-validation performance"
   ]
  },
  {
   "cell_type": "code",
   "execution_count": 122,
   "metadata": {},
   "outputs": [],
   "source": [
    "# Do standardization before classification using Pipeline as Problem 3. You don't need any param_candidate in this case.\n",
    "pipeline1 = Pipeline([('transformer', StandardScaler()), ('estimator', LogisticRegression(multi_class=\"ovr\",C=1.0))])"
   ]
  },
  {
   "cell_type": "code",
   "execution_count": 123,
   "metadata": {},
   "outputs": [
    {
     "name": "stderr",
     "output_type": "stream",
     "text": [
      "C:\\Users\\prath\\Anaconda3\\lib\\site-packages\\sklearn\\linear_model\\logistic.py:432: FutureWarning: Default solver will be changed to 'lbfgs' in 0.22. Specify a solver to silence this warning.\n",
      "  FutureWarning)\n",
      "C:\\Users\\prath\\Anaconda3\\lib\\site-packages\\sklearn\\linear_model\\logistic.py:432: FutureWarning: Default solver will be changed to 'lbfgs' in 0.22. Specify a solver to silence this warning.\n",
      "  FutureWarning)\n",
      "C:\\Users\\prath\\Anaconda3\\lib\\site-packages\\sklearn\\linear_model\\logistic.py:432: FutureWarning: Default solver will be changed to 'lbfgs' in 0.22. Specify a solver to silence this warning.\n",
      "  FutureWarning)\n",
      "C:\\Users\\prath\\Anaconda3\\lib\\site-packages\\sklearn\\linear_model\\logistic.py:432: FutureWarning: Default solver will be changed to 'lbfgs' in 0.22. Specify a solver to silence this warning.\n",
      "  FutureWarning)\n",
      "C:\\Users\\prath\\Anaconda3\\lib\\site-packages\\sklearn\\linear_model\\logistic.py:432: FutureWarning: Default solver will be changed to 'lbfgs' in 0.22. Specify a solver to silence this warning.\n",
      "  FutureWarning)\n",
      "C:\\Users\\prath\\Anaconda3\\lib\\site-packages\\sklearn\\linear_model\\logistic.py:432: FutureWarning: Default solver will be changed to 'lbfgs' in 0.22. Specify a solver to silence this warning.\n",
      "  FutureWarning)\n",
      "C:\\Users\\prath\\Anaconda3\\lib\\site-packages\\sklearn\\linear_model\\logistic.py:432: FutureWarning: Default solver will be changed to 'lbfgs' in 0.22. Specify a solver to silence this warning.\n",
      "  FutureWarning)\n",
      "C:\\Users\\prath\\Anaconda3\\lib\\site-packages\\sklearn\\linear_model\\logistic.py:432: FutureWarning: Default solver will be changed to 'lbfgs' in 0.22. Specify a solver to silence this warning.\n",
      "  FutureWarning)\n",
      "C:\\Users\\prath\\Anaconda3\\lib\\site-packages\\sklearn\\linear_model\\logistic.py:432: FutureWarning: Default solver will be changed to 'lbfgs' in 0.22. Specify a solver to silence this warning.\n",
      "  FutureWarning)\n",
      "C:\\Users\\prath\\Anaconda3\\lib\\site-packages\\sklearn\\linear_model\\logistic.py:432: FutureWarning: Default solver will be changed to 'lbfgs' in 0.22. Specify a solver to silence this warning.\n",
      "  FutureWarning)\n"
     ]
    }
   ],
   "source": [
    "# Use the cross_val_score on logistic regression on X_train_outer and y_train_outer with cv=10 and get scores\n",
    "from sklearn.model_selection import cross_val_score\n",
    "scores = cross_val_score(pipeline1,X_train_outer,y_train_outer,cv=10)"
   ]
  },
  {
   "cell_type": "code",
   "execution_count": 124,
   "metadata": {},
   "outputs": [
    {
     "data": {
      "text/plain": [
       "0.8516374929418408"
      ]
     },
     "execution_count": 124,
     "metadata": {},
     "output_type": "execute_result"
    }
   ],
   "source": [
    "scores.mean()"
   ]
  },
  {
   "cell_type": "markdown",
   "metadata": {},
   "source": [
    "### Problem 5) Cross-validation performance of which algorithm was better? K-nearest neighbor or logistic regression? You will pick the one that gave you the highest performance (accuracy), and train your model using all training data, test it on your test set (which you never touched up until this point), get your performance, and report it (to me, to the doctor, or the hospital as the generalization performance of your model)"
   ]
  },
  {
   "cell_type": "code",
   "execution_count": 125,
   "metadata": {},
   "outputs": [],
   "source": [
    "# Standardize the training set (X_train_outer), and then apply the transformation values to the test set (X_test)\n",
    "# TO DO\n",
    "scaler = StandardScaler().fit(X_train_outer)\n",
    "X_train_outer_std = scaler.transform(X_train_outer)\n",
    "X_test_std = scaler.transform(X_test)"
   ]
  },
  {
   "cell_type": "code",
   "execution_count": 126,
   "metadata": {},
   "outputs": [
    {
     "data": {
      "text/plain": [
       "KNeighborsClassifier(algorithm='auto', leaf_size=30, metric='minkowski',\n",
       "                     metric_params=None, n_jobs=None, n_neighbors=28, p=2,\n",
       "                     weights='uniform')"
      ]
     },
     "execution_count": 126,
     "metadata": {},
     "output_type": "execute_result"
    }
   ],
   "source": [
    "# Fit the best algorithm to X_train_outer_std, y_train_outer\n",
    "clf = KNeighborsClassifier(n_neighbors=28)\n",
    "clf.fit(X_train_outer_std, y_train_outer)"
   ]
  },
  {
   "cell_type": "code",
   "execution_count": 127,
   "metadata": {},
   "outputs": [
    {
     "data": {
      "text/plain": [
       "0.8148148148148148"
      ]
     },
     "execution_count": 127,
     "metadata": {},
     "output_type": "execute_result"
    }
   ],
   "source": [
    "# Test on your test set X_test_std, and report accuracy_score\n",
    "X_test_std_pred = clf.predict(X_test_std)\n",
    "accuracy_score(X_test_std_pred,y_test)"
   ]
  }
 ],
 "metadata": {
  "kernelspec": {
   "display_name": "Python 3",
   "language": "python",
   "name": "python3"
  },
  "language_info": {
   "codemirror_mode": {
    "name": "ipython",
    "version": 3
   },
   "file_extension": ".py",
   "mimetype": "text/x-python",
   "name": "python",
   "nbconvert_exporter": "python",
   "pygments_lexer": "ipython3",
   "version": "3.7.3"
  }
 },
 "nbformat": 4,
 "nbformat_minor": 1
}
